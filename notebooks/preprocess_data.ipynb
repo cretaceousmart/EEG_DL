{
 "cells": [
  {
   "cell_type": "markdown",
   "metadata": {},
   "source": [
    "### Data preprocessing"
   ]
  },
  {
   "cell_type": "code",
   "execution_count": 3,
   "metadata": {},
   "outputs": [
    {
     "name": "stdout",
     "output_type": "stream",
     "text": [
      "1.6.0\n",
      "1.26.3\n"
     ]
    }
   ],
   "source": [
    "import mne\n",
    "import numpy as np\n",
    "print(mne.__version__)\n",
    "print(np.__version__)\n",
    "import sys\n",
    "sys.path.append('../src/utils/data_preprocessing')\n",
    "sys.path.append('../src/model')\n",
    "sys.path.append('../src/data')\n",
    "\n",
    "import temp_utils as utils\n",
    "from  svm import train_svm_model"
   ]
  },
  {
   "cell_type": "code",
   "execution_count": null,
   "metadata": {},
   "outputs": [],
   "source": [
    "file_path = r'../src/data/test_data/16/16.edf'\n",
    "raw = utils.read_edf(file_path)\n",
    "raw = utils.rename_edf(raw)\n",
    "with mne.utils.use_log_level('WARNING'):\n",
    "        raw.filter(1, 60, fir_design='firwin')\n",
    "\n",
    "picks = utils.obtain_picks(raw)\n",
    "info = utils.obtain_eeg_info(raw, picks)"
   ]
  },
  {
   "cell_type": "code",
   "execution_count": null,
   "metadata": {},
   "outputs": [],
   "source": [
    "utils.obtain_multi_topomap(raw, picks, info, '16', fig_size=128, is_energy=True, is_test=False)"
   ]
  },
  {
   "cell_type": "code",
   "execution_count": null,
   "metadata": {},
   "outputs": [],
   "source": [
    "from PIL import Image\n",
    "import os\n",
    "\n",
    "# 文件夹路径\n",
    "main_path = r'D:\\Research\\EEG\\EEG_DL_Classifier\\tests'\n",
    "eeg_file_name = '1'\n",
    "folder_path = os.path.join(main_path, eeg_file_name)\n",
    "\n",
    "output_path = r'D:\\Research\\EEG\\EEG_DL_Classifier\\tests\\eeg.gif'\n",
    "\n",
    "\n",
    "# 读取所有图像文件\n",
    "images = []\n",
    "for i in range(3600):\n",
    "    file_name = f'{eeg_file_name}_{i}.png'  # 假设文件命名方式为 \"0.png\", \"1.png\", ..., \"3599.png\"\n",
    "    file_path = os.path.join(folder_path, file_name)\n",
    "    if os.path.exists(file_path):\n",
    "        img = Image.open(file_path)\n",
    "        images.append(img)\n",
    "\n",
    "\n"
   ]
  },
  {
   "cell_type": "code",
   "execution_count": null,
   "metadata": {},
   "outputs": [],
   "source": [
    "gif_path = output_path\n",
    "images[0].save(gif_path, save_all=True, append_images=images[0:], optimize=False, duration=100, loop=1)"
   ]
  },
  {
   "cell_type": "code",
   "execution_count": null,
   "metadata": {},
   "outputs": [],
   "source": [
    "egg_filename = '1'\n",
    "X_train, X_test, y_train, y_test = utils.prepare_data(egg_filename, is_test = False)"
   ]
  },
  {
   "cell_type": "markdown",
   "metadata": {},
   "source": [
    "### Data Distribution"
   ]
  },
  {
   "cell_type": "code",
   "execution_count": null,
   "metadata": {},
   "outputs": [],
   "source": [
    "import pandas as pd\n",
    "\n",
    "\n",
    "# figure out whether the number of 0 is more than 1 in the label_df\n",
    "def which_is_more(label_df):\n",
    "    label_df = label_df['label'].values\n",
    "    if (sum(label_df == 0) / (sum(label_df == 1)+sum(label_df == 0)) ) > 0.8:\n",
    "            return 0\n",
    "    elif (sum(label_df == 1) / (sum(label_df == 1)+sum(label_df == 0)) ) > 0.8:\n",
    "            return 1\n",
    "\n",
    "index = 33\n",
    "normal_index, patient_index = [], []\n",
    "for i in range(1,index + 1):\n",
    "    eeg_file_name = str(i)\n",
    "    with pd.ExcelFile(rf'../src/data/EEG_DATASET/{eeg_file_name}/{eeg_file_name}.xlsx') as xls:\n",
    "        label_df = pd.read_excel(xls, 'Sheet1',header=None)\n",
    "        label_df.rename(columns={0: 'label'}, inplace=True)\n",
    "    \n",
    "    if which_is_more(label_df) == 0:\n",
    "        normal_index.append(i)\n",
    "    else:\n",
    "        patient_index.append(i)\n",
    "\n",
    "\n",
    "print(f'病人: {patient_index}')\n",
    "print(f'正常人: {normal_index}')\n",
    "\n",
    "       \n"
   ]
  },
  {
   "cell_type": "markdown",
   "metadata": {},
   "source": [
    "### Model Trainning"
   ]
  },
  {
   "cell_type": "code",
   "execution_count": null,
   "metadata": {},
   "outputs": [],
   "source": [
    "eeg_file_names = ['1','16']\n",
    "X_train, X_test, y_train, y_test = utils.prepare_data_from_multi_file(eeg_file_names, handle_data_imbalance=False, is_test = False)"
   ]
  },
  {
   "cell_type": "code",
   "execution_count": null,
   "metadata": {},
   "outputs": [],
   "source": [
    "train_svm_model(X_train, y_train, X_test, y_test)"
   ]
  },
  {
   "cell_type": "code",
   "execution_count": 1,
   "metadata": {},
   "outputs": [
    {
     "name": "stdout",
     "output_type": "stream",
     "text": [
      "Train batch - Images shape: torch.Size([2, 16384]) Labels shape: torch.Size([2])\n",
      "Validation batch - Images shape: torch.Size([2, 16384]) Labels shape: torch.Size([2])\n",
      "Test batch - Images shape: torch.Size([2, 16384]) Labels shape: torch.Size([2])\n"
     ]
    }
   ],
   "source": [
    "import torch\n",
    "import pytorch_lightning as pl\n",
    "import sys\n",
    "sys.path.append('../src/data')\n",
    "from data import EEG_Dataset, EEG_DataModule\n",
    "\n",
    "def test_eeg_data_module():\n",
    "    eeg_file_names = ['1']  # 指定 EEG 文件名列表\n",
    "\n",
    "    # 初始化数据模块\n",
    "    data_module = EEG_DataModule(eeg_file_names=eeg_file_names, test_mode = True, batch_size=2)  # 您可以调整 batch_size\n",
    "\n",
    "    # 获取数据加载器\n",
    "    train_loader = data_module.train_dataloader()\n",
    "    val_loader = data_module.val_dataloader()\n",
    "    test_loader = data_module.test_dataloader()\n",
    "\n",
    "    # 遍历训练数据加载器进行测试\n",
    "    for batch in train_loader:\n",
    "        images, labels = batch\n",
    "        print(\"Train batch - Images shape:\", images.shape, \"Labels shape:\", labels.shape)\n",
    "        break  # 只查看第一个 batch\n",
    "\n",
    "    # 同样，您可以遍历验证和测试数据加载器\n",
    "    for batch in val_loader:\n",
    "        images, labels = batch\n",
    "        print(\"Validation batch - Images shape:\", images.shape, \"Labels shape:\", labels.shape)\n",
    "        break\n",
    "\n",
    "    for batch in test_loader:\n",
    "        images, labels = batch\n",
    "        print(\"Test batch - Images shape:\", images.shape, \"Labels shape:\", labels.shape)\n",
    "        break\n",
    "\n",
    "# 运行测试函数\n",
    "test_eeg_data_module()\n"
   ]
  },
  {
   "cell_type": "code",
   "execution_count": 5,
   "metadata": {},
   "outputs": [],
   "source": []
  },
  {
   "cell_type": "code",
   "execution_count": null,
   "metadata": {},
   "outputs": [],
   "source": []
  }
 ],
 "metadata": {
  "kernelspec": {
   "display_name": "eeg",
   "language": "python",
   "name": "python3"
  },
  "language_info": {
   "codemirror_mode": {
    "name": "ipython",
    "version": 3
   },
   "file_extension": ".py",
   "mimetype": "text/x-python",
   "name": "python",
   "nbconvert_exporter": "python",
   "pygments_lexer": "ipython3",
   "version": "3.11.7"
  }
 },
 "nbformat": 4,
 "nbformat_minor": 2
}

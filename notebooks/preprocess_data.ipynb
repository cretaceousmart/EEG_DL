{
 "cells": [
  {
   "cell_type": "markdown",
   "metadata": {},
   "source": [
    "### Data preprocessing"
   ]
  },
  {
   "cell_type": "code",
   "execution_count": 1,
   "metadata": {},
   "outputs": [
    {
     "name": "stdout",
     "output_type": "stream",
     "text": [
      "1.6.0\n",
      "1.26.3\n"
     ]
    }
   ],
   "source": [
    "import mne\n",
    "import numpy as np\n",
    "print(mne.__version__)\n",
    "print(np.__version__)\n",
    "import sys\n",
    "sys.path.append('../src/utils/data_preprocessing')\n",
    "sys.path.append('../src/model')\n",
    "sys.path.append('../src/data')\n",
    "\n",
    "import temp_utils as utils\n",
    "from  svm import train_svm_model"
   ]
  },
  {
   "cell_type": "code",
   "execution_count": null,
   "metadata": {},
   "outputs": [],
   "source": [
    "import pytorch_lightning as pl\n",
    "from pytorch_lightning.callbacks.model_checkpoint"
   ]
  },
  {
   "cell_type": "code",
   "execution_count": 2,
   "metadata": {},
   "outputs": [
    {
     "name": "stdout",
     "output_type": "stream",
     "text": [
      "Extracting EDF parameters from d:\\Research\\EEG\\EEG_DL_Classifier\\src\\data\\EEG_DATASET\\30\\30.edf...\n",
      "EDF file detected\n",
      "Setting channel info structure...\n",
      "Creating raw.info structure...\n"
     ]
    },
    {
     "name": "stderr",
     "output_type": "stream",
     "text": [
      "d:\\Research\\EEG\\EEG_DL_Classifier\\notebooks\\../src/utils/data_preprocessing\\temp_utils.py:16: RuntimeWarning: Scaling factor is not defined in following channels:\n",
      "POL SpO2, POL EtCO2, POL Pulse, POL CO2Wave\n",
      "  raw = mne.io.read_raw_edf(file_path, preload=True, encoding='latin1')\n",
      "d:\\Research\\EEG\\EEG_DL_Classifier\\notebooks\\../src/utils/data_preprocessing\\temp_utils.py:16: RuntimeWarning: Physical range is not defined in following channels:\n",
      "POL SpO2, POL EtCO2, POL Pulse, POL CO2Wave\n",
      "  raw = mne.io.read_raw_edf(file_path, preload=True, encoding='latin1')\n"
     ]
    },
    {
     "name": "stdout",
     "output_type": "stream",
     "text": [
      "Reading 0 ... 3605169  =      0.000 ...  3605.169 secs...\n",
      "Jie Log: output_dir: d:\\Research\\EEG\\EEG_DL_CLASSIFIER\\src\\data\\output_image\\30\n"
     ]
    },
    {
     "name": "stderr",
     "output_type": "stream",
     "text": [
      "Obtain topomap for 30: 100%|██████████| 3600/3600 [03:48<00:00, 15.73it/s]"
     ]
    },
    {
     "name": "stdout",
     "output_type": "stream",
     "text": [
      "Extracting EDF parameters from d:\\Research\\EEG\\EEG_DL_Classifier\\src\\data\\EEG_DATASET\\31\\31.edf...\n",
      "EDF file detected\n",
      "Setting channel info structure...\n",
      "Creating raw.info structure...\n",
      "Reading 0 ... 3605169  =      0.000 ...  3605.169 secs...\n"
     ]
    },
    {
     "name": "stderr",
     "output_type": "stream",
     "text": [
      "\n",
      "d:\\Research\\EEG\\EEG_DL_Classifier\\notebooks\\../src/utils/data_preprocessing\\temp_utils.py:16: RuntimeWarning: Scaling factor is not defined in following channels:\n",
      "POL SpO2, POL EtCO2, POL Pulse, POL CO2Wave\n",
      "  raw = mne.io.read_raw_edf(file_path, preload=True, encoding='latin1')\n",
      "d:\\Research\\EEG\\EEG_DL_Classifier\\notebooks\\../src/utils/data_preprocessing\\temp_utils.py:16: RuntimeWarning: Physical range is not defined in following channels:\n",
      "POL SpO2, POL EtCO2, POL Pulse, POL CO2Wave\n",
      "  raw = mne.io.read_raw_edf(file_path, preload=True, encoding='latin1')\n"
     ]
    },
    {
     "name": "stdout",
     "output_type": "stream",
     "text": [
      "Jie Log: output_dir: d:\\Research\\EEG\\EEG_DL_CLASSIFIER\\src\\data\\output_image\\31\n"
     ]
    },
    {
     "name": "stderr",
     "output_type": "stream",
     "text": [
      "Obtain topomap for 31: 100%|██████████| 3600/3600 [05:04<00:00, 11.82it/s]"
     ]
    },
    {
     "name": "stdout",
     "output_type": "stream",
     "text": [
      "Extracting EDF parameters from d:\\Research\\EEG\\EEG_DL_Classifier\\src\\data\\EEG_DATASET\\32\\32.edf...\n",
      "EDF file detected\n",
      "Setting channel info structure...\n",
      "Creating raw.info structure...\n",
      "Reading 0 ... 3605169  =      0.000 ...  3605.169 secs...\n"
     ]
    },
    {
     "name": "stderr",
     "output_type": "stream",
     "text": [
      "\n",
      "d:\\Research\\EEG\\EEG_DL_Classifier\\notebooks\\../src/utils/data_preprocessing\\temp_utils.py:16: RuntimeWarning: Scaling factor is not defined in following channels:\n",
      "POL SpO2, POL EtCO2, POL Pulse, POL CO2Wave\n",
      "  raw = mne.io.read_raw_edf(file_path, preload=True, encoding='latin1')\n",
      "d:\\Research\\EEG\\EEG_DL_Classifier\\notebooks\\../src/utils/data_preprocessing\\temp_utils.py:16: RuntimeWarning: Physical range is not defined in following channels:\n",
      "POL SpO2, POL EtCO2, POL Pulse, POL CO2Wave\n",
      "  raw = mne.io.read_raw_edf(file_path, preload=True, encoding='latin1')\n"
     ]
    },
    {
     "name": "stdout",
     "output_type": "stream",
     "text": [
      "Jie Log: output_dir: d:\\Research\\EEG\\EEG_DL_CLASSIFIER\\src\\data\\output_image\\32\n"
     ]
    },
    {
     "name": "stderr",
     "output_type": "stream",
     "text": [
      "Obtain topomap for 32: 100%|██████████| 3600/3600 [06:46<00:00,  8.86it/s]"
     ]
    },
    {
     "name": "stdout",
     "output_type": "stream",
     "text": [
      "Extracting EDF parameters from d:\\Research\\EEG\\EEG_DL_Classifier\\src\\data\\EEG_DATASET\\33\\33.edf...\n",
      "EDF file detected\n",
      "Setting channel info structure...\n",
      "Creating raw.info structure...\n",
      "Reading 0 ... 3609357  =      0.000 ...  3609.357 secs...\n"
     ]
    },
    {
     "name": "stderr",
     "output_type": "stream",
     "text": [
      "\n",
      "d:\\Research\\EEG\\EEG_DL_Classifier\\notebooks\\../src/utils/data_preprocessing\\temp_utils.py:16: RuntimeWarning: Scaling factor is not defined in following channels:\n",
      "POL SpO2, POL EtCO2, POL Pulse, POL CO2Wave\n",
      "  raw = mne.io.read_raw_edf(file_path, preload=True, encoding='latin1')\n",
      "d:\\Research\\EEG\\EEG_DL_Classifier\\notebooks\\../src/utils/data_preprocessing\\temp_utils.py:16: RuntimeWarning: Physical range is not defined in following channels:\n",
      "POL SpO2, POL EtCO2, POL Pulse, POL CO2Wave\n",
      "  raw = mne.io.read_raw_edf(file_path, preload=True, encoding='latin1')\n"
     ]
    },
    {
     "name": "stdout",
     "output_type": "stream",
     "text": [
      "Jie Log: output_dir: d:\\Research\\EEG\\EEG_DL_CLASSIFIER\\src\\data\\output_image\\33\n"
     ]
    },
    {
     "name": "stderr",
     "output_type": "stream",
     "text": [
      "Obtain topomap for 33: 100%|██████████| 3600/3600 [09:31<00:00,  6.30it/s]  \n"
     ]
    }
   ],
   "source": [
    "# file_index = 3\n",
    "for file_index in range(30,34):\n",
    "        file_path = rf'../src/data/EEG_DATASET/{file_index}/{file_index}.edf'\n",
    "        raw = utils.read_edf(file_path)\n",
    "        raw = utils.rename_edf(raw)\n",
    "        with mne.utils.use_log_level('WARNING'):\n",
    "                raw.filter(1, 60, fir_design='firwin')\n",
    "\n",
    "        picks = utils.obtain_picks(raw)\n",
    "        info = utils.obtain_eeg_info(raw, picks)\n",
    "        utils.obtain_multi_topomap(raw, picks, info, str(file_index), fig_size=128, is_energy=True, is_test=False)"
   ]
  },
  {
   "cell_type": "code",
   "execution_count": null,
   "metadata": {},
   "outputs": [],
   "source": []
  },
  {
   "cell_type": "code",
   "execution_count": null,
   "metadata": {},
   "outputs": [],
   "source": [
    "from PIL import Image\n",
    "import os\n",
    "\n",
    "# 文件夹路径\n",
    "main_path = r'D:\\Research\\EEG\\EEG_DL_Classifier\\tests'\n",
    "eeg_file_name = '1'\n",
    "folder_path = os.path.join(main_path, eeg_file_name)\n",
    "\n",
    "output_path = r'D:\\Research\\EEG\\EEG_DL_Classifier\\tests\\eeg.gif'\n",
    "\n",
    "\n",
    "# 读取所有图像文件\n",
    "images = []\n",
    "for i in range(3600):\n",
    "    file_name = f'{eeg_file_name}_{i}.png'  # 假设文件命名方式为 \"0.png\", \"1.png\", ..., \"3599.png\"\n",
    "    file_path = os.path.join(folder_path, file_name)\n",
    "    if os.path.exists(file_path):\n",
    "        img = Image.open(file_path)\n",
    "        images.append(img)\n",
    "\n",
    "\n"
   ]
  },
  {
   "cell_type": "code",
   "execution_count": null,
   "metadata": {},
   "outputs": [],
   "source": [
    "gif_path = output_path\n",
    "images[0].save(gif_path, save_all=True, append_images=images[0:], optimize=False, duration=100, loop=1)"
   ]
  },
  {
   "cell_type": "code",
   "execution_count": null,
   "metadata": {},
   "outputs": [],
   "source": [
    "egg_filename = '1'\n",
    "X_train, X_test, y_train, y_test = utils.prepare_data(egg_filename, is_test = False)"
   ]
  },
  {
   "cell_type": "markdown",
   "metadata": {},
   "source": [
    "### Process data from output_image"
   ]
  },
  {
   "cell_type": "code",
   "execution_count": null,
   "metadata": {},
   "outputs": [],
   "source": [
    "from torchvision import transforms\n",
    "\n",
    "image_size = 16\n",
    "\n",
    "eeg_file_name_list = [str(i) for i in range(1,17)]\n",
    "\n",
    "for eeg_file_name in eeg_file_name_list:\n",
    "    image_folder = rf'../src/data/output_image/{eeg_file_name}/'\n",
    "    # 对于images folder里的每一个图片，都要进行如下预处理：1.\n",
    "    \n"
   ]
  },
  {
   "cell_type": "code",
   "execution_count": null,
   "metadata": {},
   "outputs": [],
   "source": []
  },
  {
   "cell_type": "markdown",
   "metadata": {},
   "source": [
    "### Data Distribution"
   ]
  },
  {
   "cell_type": "code",
   "execution_count": null,
   "metadata": {},
   "outputs": [],
   "source": [
    "import pandas as pd\n",
    "\n",
    "\n",
    "# figure out whether the number of 0 is more than 1 in the label_df\n",
    "def which_is_more(label_df):\n",
    "    label_df = label_df['label'].values\n",
    "    if (sum(label_df == 0) / (sum(label_df == 1)+sum(label_df == 0)) ) > 0.8:\n",
    "            return 0\n",
    "    elif (sum(label_df == 1) / (sum(label_df == 1)+sum(label_df == 0)) ) > 0.8:\n",
    "            return 1\n",
    "\n",
    "index = 33\n",
    "normal_index, patient_index = [], []\n",
    "for i in range(1,index + 1):\n",
    "    eeg_file_name = str(i)\n",
    "    with pd.ExcelFile(rf'../src/data/EEG_DATASET/{eeg_file_name}/{eeg_file_name}.xlsx') as xls:\n",
    "        label_df = pd.read_excel(xls, 'Sheet1',header=None)\n",
    "        label_df.rename(columns={0: 'label'}, inplace=True)\n",
    "    \n",
    "    if which_is_more(label_df) == 0:\n",
    "        normal_index.append(i)\n",
    "    else:\n",
    "        patient_index.append(i)\n",
    "\n",
    "\n",
    "print(f'病人: {patient_index}')\n",
    "print(f'正常人: {normal_index}')\n",
    "\n",
    "       \n"
   ]
  },
  {
   "cell_type": "markdown",
   "metadata": {},
   "source": [
    "### Model Trainning"
   ]
  },
  {
   "cell_type": "code",
   "execution_count": null,
   "metadata": {},
   "outputs": [],
   "source": [
    "eeg_file_names = ['1','16']\n",
    "X_train, X_test, y_train, y_test = utils.prepare_data_from_multi_file(eeg_file_names, handle_data_imbalance=False, is_test = False)"
   ]
  },
  {
   "cell_type": "code",
   "execution_count": null,
   "metadata": {},
   "outputs": [],
   "source": [
    "train_svm_model(X_train, y_train, X_test, y_test)"
   ]
  },
  {
   "cell_type": "code",
   "execution_count": null,
   "metadata": {},
   "outputs": [],
   "source": [
    "import torch\n",
    "import pytorch_lightning as pl\n",
    "import sys\n",
    "sys.path.append('../src/data')\n",
    "from data import EEG_Dataset, EEG_DataModule\n",
    "\n",
    "def test_eeg_data_module():\n",
    "    eeg_file_names = ['1']  # 指定 EEG 文件名列表\n",
    "\n",
    "    # 初始化数据模块\n",
    "    data_module = EEG_DataModule(eeg_file_names=eeg_file_names, test_mode = True, batch_size=2)  # 您可以调整 batch_size\n",
    "\n",
    "    # 获取数据加载器\n",
    "    train_loader = data_module.train_dataloader()\n",
    "    val_loader = data_module.val_dataloader()\n",
    "    test_loader = data_module.test_dataloader()\n",
    "\n",
    "    # 遍历训练数据加载器进行测试\n",
    "    for batch in train_loader:\n",
    "        images, labels = batch\n",
    "        print(\"Train batch - Images shape:\", images.shape, \"Labels shape:\", labels.shape)\n",
    "        break  # 只查看第一个 batch\n",
    "\n",
    "    # 同样，您可以遍历验证和测试数据加载器\n",
    "    for batch in val_loader:\n",
    "        images, labels = batch\n",
    "        print(\"Validation batch - Images shape:\", images.shape, \"Labels shape:\", labels.shape)\n",
    "        break\n",
    "\n",
    "    for batch in test_loader:\n",
    "        images, labels = batch\n",
    "        print(\"Test batch - Images shape:\", images.shape, \"Labels shape:\", labels.shape)\n",
    "        break\n",
    "\n",
    "# 运行测试函数\n",
    "test_eeg_data_module()\n"
   ]
  },
  {
   "cell_type": "code",
   "execution_count": null,
   "metadata": {},
   "outputs": [],
   "source": []
  },
  {
   "cell_type": "code",
   "execution_count": null,
   "metadata": {},
   "outputs": [],
   "source": []
  }
 ],
 "metadata": {
  "kernelspec": {
   "display_name": "eeg",
   "language": "python",
   "name": "python3"
  },
  "language_info": {
   "codemirror_mode": {
    "name": "ipython",
    "version": 3
   },
   "file_extension": ".py",
   "mimetype": "text/x-python",
   "name": "python",
   "nbconvert_exporter": "python",
   "pygments_lexer": "ipython3",
   "version": "3.11.7"
  }
 },
 "nbformat": 4,
 "nbformat_minor": 2
}

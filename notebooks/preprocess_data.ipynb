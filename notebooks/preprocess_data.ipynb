{
 "cells": [
  {
   "cell_type": "markdown",
   "metadata": {},
   "source": [
    "### Data preprocessing"
   ]
  },
  {
   "cell_type": "code",
   "execution_count": 1,
   "metadata": {},
   "outputs": [
    {
     "name": "stdout",
     "output_type": "stream",
     "text": [
      "1.6.0\n",
      "1.26.3\n"
     ]
    }
   ],
   "source": [
    "import mne\n",
    "import numpy as np\n",
    "print(mne.__version__)\n",
    "print(np.__version__)\n",
    "import sys\n",
    "sys.path.append('../src/utils/data_preprocessing')\n",
    "sys.path.append('../src/model')\n",
    "\n",
    "import temp_utils as utils\n",
    "from  svm import train_svm_model"
   ]
  },
  {
   "cell_type": "code",
   "execution_count": 2,
   "metadata": {},
   "outputs": [
    {
     "name": "stdout",
     "output_type": "stream",
     "text": [
      "Extracting EDF parameters from d:\\Research\\EEG\\EEG_DL_Classifier\\src\\data\\test_data\\16\\16.edf...\n",
      "EDF file detected\n",
      "Setting channel info structure...\n",
      "Creating raw.info structure...\n",
      "Reading 0 ... 3604471  =      0.000 ...  3604.471 secs...\n"
     ]
    },
    {
     "name": "stderr",
     "output_type": "stream",
     "text": [
      "d:\\Research\\EEG\\EEG_DL_Classifier\\notebooks\\../src/utils/data_preprocessing\\temp_utils.py:15: RuntimeWarning: Scaling factor is not defined in following channels:\n",
      "POL SpO2, POL EtCO2, POL Pulse, POL CO2Wave\n",
      "  raw = mne.io.read_raw_edf(file_path, preload=True, encoding='latin1')\n",
      "d:\\Research\\EEG\\EEG_DL_Classifier\\notebooks\\../src/utils/data_preprocessing\\temp_utils.py:15: RuntimeWarning: Physical range is not defined in following channels:\n",
      "POL SpO2, POL EtCO2, POL Pulse, POL CO2Wave\n",
      "  raw = mne.io.read_raw_edf(file_path, preload=True, encoding='latin1')\n"
     ]
    }
   ],
   "source": [
    "file_path = r'../src/data/test_data/16/16.edf'\n",
    "raw = utils.read_edf(file_path)\n",
    "raw = utils.rename_edf(raw)\n",
    "with mne.utils.use_log_level('WARNING'):\n",
    "        raw.filter(1, 60, fir_design='firwin')\n",
    "\n",
    "picks = utils.obtain_picks(raw)\n",
    "info = utils.obtain_eeg_info(raw, picks)"
   ]
  },
  {
   "cell_type": "code",
   "execution_count": 3,
   "metadata": {},
   "outputs": [
    {
     "name": "stdout",
     "output_type": "stream",
     "text": [
      "Jie Log: output_dir: d:\\Research\\EEG\\EEG_DL_CLASSIFIER\\src\\data\\output_image\\16\n"
     ]
    },
    {
     "name": "stderr",
     "output_type": "stream",
     "text": [
      "Obtain topomap for 16: 100%|██████████| 3600/3600 [04:00<00:00, 14.98it/s]\n"
     ]
    }
   ],
   "source": [
    "utils.obtain_multi_topomap(raw, picks, info, '16', fig_size=128, is_energy=True, is_test=False)"
   ]
  },
  {
   "cell_type": "code",
   "execution_count": null,
   "metadata": {},
   "outputs": [],
   "source": [
    "from PIL import Image\n",
    "import os\n",
    "\n",
    "# 文件夹路径\n",
    "main_path = r'D:\\Research\\EEG\\EEG_DL_Classifier\\tests'\n",
    "eeg_file_name = '1'\n",
    "folder_path = os.path.join(main_path, eeg_file_name)\n",
    "\n",
    "output_path = r'D:\\Research\\EEG\\EEG_DL_Classifier\\tests\\eeg.gif'\n",
    "\n",
    "\n",
    "# 读取所有图像文件\n",
    "images = []\n",
    "for i in range(3600):\n",
    "    file_name = f'{eeg_file_name}_{i}.png'  # 假设文件命名方式为 \"0.png\", \"1.png\", ..., \"3599.png\"\n",
    "    file_path = os.path.join(folder_path, file_name)\n",
    "    if os.path.exists(file_path):\n",
    "        img = Image.open(file_path)\n",
    "        images.append(img)\n",
    "\n",
    "\n"
   ]
  },
  {
   "cell_type": "code",
   "execution_count": null,
   "metadata": {},
   "outputs": [],
   "source": [
    "gif_path = output_path\n",
    "images[0].save(gif_path, save_all=True, append_images=images[0:], optimize=False, duration=100, loop=1)"
   ]
  },
  {
   "cell_type": "code",
   "execution_count": null,
   "metadata": {},
   "outputs": [],
   "source": [
    "egg_filename = '1'\n",
    "X_train, X_test, y_train, y_test = utils.prepare_data(egg_filename, is_test = False)"
   ]
  },
  {
   "cell_type": "markdown",
   "metadata": {},
   "source": [
    "### Data Distribution"
   ]
  },
  {
   "cell_type": "code",
   "execution_count": null,
   "metadata": {},
   "outputs": [],
   "source": [
    "import pandas as pd\n",
    "\n",
    "\n",
    "# figure out whether the number of 0 is more than 1 in the label_df\n",
    "def which_is_more(label_df):\n",
    "    label_df = label_df['label'].values\n",
    "    if (sum(label_df == 0) / (sum(label_df == 1)+sum(label_df == 0)) ) > 0.8:\n",
    "            return 0\n",
    "    elif (sum(label_df == 1) / (sum(label_df == 1)+sum(label_df == 0)) ) > 0.8:\n",
    "            return 1\n",
    "\n",
    "index = 33\n",
    "normal_index, patient_index = [], []\n",
    "for i in range(1,index + 1):\n",
    "    eeg_file_name = str(i)\n",
    "    with pd.ExcelFile(rf'../src/data/EEG_DATASET/{eeg_file_name}/{eeg_file_name}.xlsx') as xls:\n",
    "        label_df = pd.read_excel(xls, 'Sheet1',header=None)\n",
    "        label_df.rename(columns={0: 'label'}, inplace=True)\n",
    "    \n",
    "    if which_is_more(label_df) == 0:\n",
    "        normal_index.append(i)\n",
    "    else:\n",
    "        patient_index.append(i)\n",
    "\n",
    "\n",
    "print(f'病人: {patient_index}')\n",
    "print(f'正常人: {normal_index}')\n",
    "\n",
    "       \n"
   ]
  },
  {
   "cell_type": "markdown",
   "metadata": {},
   "source": [
    "### Model Trainning"
   ]
  },
  {
   "cell_type": "code",
   "execution_count": 4,
   "metadata": {},
   "outputs": [
    {
     "name": "stdout",
     "output_type": "stream",
     "text": [
      "Jie log: all_images_np.shape: (7200, 16384), all_labels_np.shape: (7200,)\n"
     ]
    }
   ],
   "source": [
    "eeg_file_names = ['1','16']\n",
    "X_train, X_test, y_train, y_test = utils.prepare_data_from_multi_file(eeg_file_names, handle_data_imbalance=False, is_test = False)"
   ]
  },
  {
   "cell_type": "code",
   "execution_count": 5,
   "metadata": {},
   "outputs": [
    {
     "name": "stdout",
     "output_type": "stream",
     "text": [
      "Training SVM model...\n",
      "X_train shape: (5040, 16384)\n",
      "y_train shape: (5040,)\n",
      "X_test shape: (2160, 16384)\n",
      "y_test shape: (2160,)\n",
      "Accuracy: 0.8462962962962963\n",
      "Recall: 0.847265221878225\n",
      "Precision: 0.8169154228855722\n",
      "F1 Score: 0.8318135764944277\n",
      "Confusion Matrix:\n",
      "[[1007  184]\n",
      " [ 148  821]]\n"
     ]
    },
    {
     "data": {
      "text/html": [
       "<style>#sk-container-id-1 {color: black;}#sk-container-id-1 pre{padding: 0;}#sk-container-id-1 div.sk-toggleable {background-color: white;}#sk-container-id-1 label.sk-toggleable__label {cursor: pointer;display: block;width: 100%;margin-bottom: 0;padding: 0.3em;box-sizing: border-box;text-align: center;}#sk-container-id-1 label.sk-toggleable__label-arrow:before {content: \"▸\";float: left;margin-right: 0.25em;color: #696969;}#sk-container-id-1 label.sk-toggleable__label-arrow:hover:before {color: black;}#sk-container-id-1 div.sk-estimator:hover label.sk-toggleable__label-arrow:before {color: black;}#sk-container-id-1 div.sk-toggleable__content {max-height: 0;max-width: 0;overflow: hidden;text-align: left;background-color: #f0f8ff;}#sk-container-id-1 div.sk-toggleable__content pre {margin: 0.2em;color: black;border-radius: 0.25em;background-color: #f0f8ff;}#sk-container-id-1 input.sk-toggleable__control:checked~div.sk-toggleable__content {max-height: 200px;max-width: 100%;overflow: auto;}#sk-container-id-1 input.sk-toggleable__control:checked~label.sk-toggleable__label-arrow:before {content: \"▾\";}#sk-container-id-1 div.sk-estimator input.sk-toggleable__control:checked~label.sk-toggleable__label {background-color: #d4ebff;}#sk-container-id-1 div.sk-label input.sk-toggleable__control:checked~label.sk-toggleable__label {background-color: #d4ebff;}#sk-container-id-1 input.sk-hidden--visually {border: 0;clip: rect(1px 1px 1px 1px);clip: rect(1px, 1px, 1px, 1px);height: 1px;margin: -1px;overflow: hidden;padding: 0;position: absolute;width: 1px;}#sk-container-id-1 div.sk-estimator {font-family: monospace;background-color: #f0f8ff;border: 1px dotted black;border-radius: 0.25em;box-sizing: border-box;margin-bottom: 0.5em;}#sk-container-id-1 div.sk-estimator:hover {background-color: #d4ebff;}#sk-container-id-1 div.sk-parallel-item::after {content: \"\";width: 100%;border-bottom: 1px solid gray;flex-grow: 1;}#sk-container-id-1 div.sk-label:hover label.sk-toggleable__label {background-color: #d4ebff;}#sk-container-id-1 div.sk-serial::before {content: \"\";position: absolute;border-left: 1px solid gray;box-sizing: border-box;top: 0;bottom: 0;left: 50%;z-index: 0;}#sk-container-id-1 div.sk-serial {display: flex;flex-direction: column;align-items: center;background-color: white;padding-right: 0.2em;padding-left: 0.2em;position: relative;}#sk-container-id-1 div.sk-item {position: relative;z-index: 1;}#sk-container-id-1 div.sk-parallel {display: flex;align-items: stretch;justify-content: center;background-color: white;position: relative;}#sk-container-id-1 div.sk-item::before, #sk-container-id-1 div.sk-parallel-item::before {content: \"\";position: absolute;border-left: 1px solid gray;box-sizing: border-box;top: 0;bottom: 0;left: 50%;z-index: -1;}#sk-container-id-1 div.sk-parallel-item {display: flex;flex-direction: column;z-index: 1;position: relative;background-color: white;}#sk-container-id-1 div.sk-parallel-item:first-child::after {align-self: flex-end;width: 50%;}#sk-container-id-1 div.sk-parallel-item:last-child::after {align-self: flex-start;width: 50%;}#sk-container-id-1 div.sk-parallel-item:only-child::after {width: 0;}#sk-container-id-1 div.sk-dashed-wrapped {border: 1px dashed gray;margin: 0 0.4em 0.5em 0.4em;box-sizing: border-box;padding-bottom: 0.4em;background-color: white;}#sk-container-id-1 div.sk-label label {font-family: monospace;font-weight: bold;display: inline-block;line-height: 1.2em;}#sk-container-id-1 div.sk-label-container {text-align: center;}#sk-container-id-1 div.sk-container {/* jupyter's `normalize.less` sets `[hidden] { display: none; }` but bootstrap.min.css set `[hidden] { display: none !important; }` so we also need the `!important` here to be able to override the default hidden behavior on the sphinx rendered scikit-learn.org. See: https://github.com/scikit-learn/scikit-learn/issues/21755 */display: inline-block !important;position: relative;}#sk-container-id-1 div.sk-text-repr-fallback {display: none;}</style><div id=\"sk-container-id-1\" class=\"sk-top-container\"><div class=\"sk-text-repr-fallback\"><pre>SVC()</pre><b>In a Jupyter environment, please rerun this cell to show the HTML representation or trust the notebook. <br />On GitHub, the HTML representation is unable to render, please try loading this page with nbviewer.org.</b></div><div class=\"sk-container\" hidden><div class=\"sk-item\"><div class=\"sk-estimator sk-toggleable\"><input class=\"sk-toggleable__control sk-hidden--visually\" id=\"sk-estimator-id-1\" type=\"checkbox\" checked><label for=\"sk-estimator-id-1\" class=\"sk-toggleable__label sk-toggleable__label-arrow\">SVC</label><div class=\"sk-toggleable__content\"><pre>SVC()</pre></div></div></div></div></div>"
      ],
      "text/plain": [
       "SVC()"
      ]
     },
     "execution_count": 5,
     "metadata": {},
     "output_type": "execute_result"
    }
   ],
   "source": [
    "train_svm_model(X_train, y_train, X_test, y_test)"
   ]
  },
  {
   "cell_type": "code",
   "execution_count": null,
   "metadata": {},
   "outputs": [],
   "source": []
  },
  {
   "cell_type": "code",
   "execution_count": null,
   "metadata": {},
   "outputs": [],
   "source": []
  }
 ],
 "metadata": {
  "kernelspec": {
   "display_name": "eeg",
   "language": "python",
   "name": "python3"
  },
  "language_info": {
   "codemirror_mode": {
    "name": "ipython",
    "version": 3
   },
   "file_extension": ".py",
   "mimetype": "text/x-python",
   "name": "python",
   "nbconvert_exporter": "python",
   "pygments_lexer": "ipython3",
   "version": "3.11.7"
  }
 },
 "nbformat": 4,
 "nbformat_minor": 2
}

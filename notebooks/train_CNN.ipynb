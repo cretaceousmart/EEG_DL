{
 "cells": [
  {
   "cell_type": "code",
   "execution_count": 1,
   "metadata": {},
   "outputs": [],
   "source": [
    "import sys\n",
    "sys.path.append('../src')\n",
    "from train_process.train_CNN import train\n",
    "import pandas as pd"
   ]
  },
  {
   "cell_type": "markdown",
   "metadata": {},
   "source": [
    "### 数据探索和可视化"
   ]
  },
  {
   "cell_type": "code",
   "execution_count": null,
   "metadata": {},
   "outputs": [],
   "source": [
    "file_index = [i for i in range(1,34)]\n",
    "for eeg_file_name in file_index:\n",
    "    xlsx=  rf'../src/data/EEG_DATASET/{eeg_file_name}/{eeg_file_name}.xlsx'\n",
    "    label_df = pd.read_excel(xlsx, 'Sheet1', header=None)\n",
    "    label_df.rename(columns={0: 'label'}, inplace=True)\n",
    "    # 打印label中0的个数和1的个数\n",
    "    print(f\"第{eeg_file_name}个人的数据中，label中0的个数为{label_df[label_df['label'] == 0].shape[0]}，label中1的个数为{label_df[label_df['label'] == 1].shape[0]}\")\n"
   ]
  },
  {
   "cell_type": "code",
   "execution_count": null,
   "metadata": {},
   "outputs": [],
   "source": [
    "import utils.data_preprocessing.temp_utils as utils\n",
    "import matplotlib.pyplot as plt\n",
    "import numpy as np\n",
    "import mne"
   ]
  },
  {
   "cell_type": "code",
   "execution_count": null,
   "metadata": {},
   "outputs": [],
   "source": [
    "eeg_file_name = 16\n",
    "file_path = rf'../src/data/EEG_DATASET/{eeg_file_name}/{eeg_file_name}.edf'\n",
    "# utils.read_edf(file_path)\n",
    "# 绘制EEG信号\n",
    "raw = utils.read_edf(file_path)\n",
    "raw = utils.rename_edf(raw)\n",
    "\n",
    "# 选取第1秒到第20秒的数据\n",
    "start, stop = raw.time_as_index([1, 30])  # 返回第1秒和第20秒的索引\n",
    "\n",
    "# 选取数据\n",
    "data, times = raw[:, start:stop]\n",
    "\n",
    "# 绘制信号\n",
    "raw.plot(start=1, duration=29, scalings='auto')"
   ]
  },
  {
   "cell_type": "code",
   "execution_count": null,
   "metadata": {},
   "outputs": [],
   "source": [
    "eeg_file_name = 1\n",
    "xlsx=  rf'../src/data/EEG_DATASET/{eeg_file_name}/{eeg_file_name}.xlsx'\n",
    "label_df = pd.read_excel(xlsx, 'Sheet1', header=None)\n",
    "label_df.rename(columns={0: 'label'}, inplace=True)\n",
    "# print(label_df[1:30])"
   ]
  },
  {
   "cell_type": "markdown",
   "metadata": {},
   "source": [
    "### 模型训练"
   ]
  },
  {
   "cell_type": "code",
   "execution_count": 2,
   "metadata": {},
   "outputs": [
    {
     "name": "stderr",
     "output_type": "stream",
     "text": [
      "\u001b[34m\u001b[1mwandb\u001b[0m: Currently logged in as: \u001b[33mcretaceousmart\u001b[0m. Use \u001b[1m`wandb login --relogin`\u001b[0m to force relogin\n"
     ]
    },
    {
     "data": {
      "text/html": [
       "wandb version 0.16.3 is available!  To upgrade, please run:\n",
       " $ pip install wandb --upgrade"
      ],
      "text/plain": [
       "<IPython.core.display.HTML object>"
      ]
     },
     "metadata": {},
     "output_type": "display_data"
    },
    {
     "data": {
      "text/html": [
       "Tracking run with wandb version 0.16.2"
      ],
      "text/plain": [
       "<IPython.core.display.HTML object>"
      ]
     },
     "metadata": {},
     "output_type": "display_data"
    },
    {
     "data": {
      "text/html": [
       "Run data is saved locally in <code>.\\wandb\\run-20240226_145801-al0z5nek</code>"
      ],
      "text/plain": [
       "<IPython.core.display.HTML object>"
      ]
     },
     "metadata": {},
     "output_type": "display_data"
    },
    {
     "data": {
      "text/html": [
       "Syncing run <strong><a href='https://wandb.ai/cretaceousmart/EEG_classification_with_CNN/runs/al0z5nek' target=\"_blank\">EEG_Classification_Run</a></strong> to <a href='https://wandb.ai/cretaceousmart/EEG_classification_with_CNN' target=\"_blank\">Weights & Biases</a> (<a href='https://wandb.me/run' target=\"_blank\">docs</a>)<br/>"
      ],
      "text/plain": [
       "<IPython.core.display.HTML object>"
      ]
     },
     "metadata": {},
     "output_type": "display_data"
    },
    {
     "data": {
      "text/html": [
       " View project at <a href='https://wandb.ai/cretaceousmart/EEG_classification_with_CNN' target=\"_blank\">https://wandb.ai/cretaceousmart/EEG_classification_with_CNN</a>"
      ],
      "text/plain": [
       "<IPython.core.display.HTML object>"
      ]
     },
     "metadata": {},
     "output_type": "display_data"
    },
    {
     "data": {
      "text/html": [
       " View run at <a href='https://wandb.ai/cretaceousmart/EEG_classification_with_CNN/runs/al0z5nek' target=\"_blank\">https://wandb.ai/cretaceousmart/EEG_classification_with_CNN/runs/al0z5nek</a>"
      ],
      "text/plain": [
       "<IPython.core.display.HTML object>"
      ]
     },
     "metadata": {},
     "output_type": "display_data"
    },
    {
     "name": "stdout",
     "output_type": "stream",
     "text": [
      "Jie Log: num_positive: 50576, num_negative: 64624\n",
      "Jie Log: total_size: 115200\n",
      "Jie Log: EEG_DataModule.setup()执行完毕： train_size: 80640, val_size: 11520, test_size: 23040\n"
     ]
    },
    {
     "name": "stderr",
     "output_type": "stream",
     "text": [
      "d:\\Dev\\Anaconda\\envs\\mne\\Lib\\site-packages\\pytorch_lightning\\callbacks\\model_checkpoint.py:639: Checkpoint directory D:\\Research\\EEG\\EEG_DL_Classifier\\checkpoints exists and is not empty.\n"
     ]
    },
    {
     "data": {
      "application/vnd.jupyter.widget-view+json": {
       "model_id": "09ab6f6424d142b2842e0b3b935b4ccf",
       "version_major": 2,
       "version_minor": 0
      },
      "text/plain": [
       "Sanity Checking: |          | 0/? [00:00<?, ?it/s]"
      ]
     },
     "metadata": {},
     "output_type": "display_data"
    },
    {
     "name": "stderr",
     "output_type": "stream",
     "text": [
      "d:\\Dev\\Anaconda\\envs\\mne\\Lib\\site-packages\\pytorch_lightning\\trainer\\connectors\\data_connector.py:441: The 'val_dataloader' does not have many workers which may be a bottleneck. Consider increasing the value of the `num_workers` argument` to `num_workers=31` in the `DataLoader` to improve performance.\n"
     ]
    },
    {
     "name": "stdout",
     "output_type": "stream",
     "text": [
      "Jie Log: EEG_DataModule.train_dataloader()开始执行\n"
     ]
    },
    {
     "name": "stderr",
     "output_type": "stream",
     "text": [
      "d:\\Dev\\Anaconda\\envs\\mne\\Lib\\site-packages\\pytorch_lightning\\trainer\\connectors\\data_connector.py:441: The 'train_dataloader' does not have many workers which may be a bottleneck. Consider increasing the value of the `num_workers` argument` to `num_workers=31` in the `DataLoader` to improve performance.\n"
     ]
    },
    {
     "data": {
      "application/vnd.jupyter.widget-view+json": {
       "model_id": "87f945ab7d8741acb33b0e620805300e",
       "version_major": 2,
       "version_minor": 0
      },
      "text/plain": [
       "Training: |          | 0/? [00:00<?, ?it/s]"
      ]
     },
     "metadata": {},
     "output_type": "display_data"
    },
    {
     "data": {
      "application/vnd.jupyter.widget-view+json": {
       "model_id": "7769d7df59ef486a9d528e0ee81476f6",
       "version_major": 2,
       "version_minor": 0
      },
      "text/plain": [
       "Validation: |          | 0/? [00:00<?, ?it/s]"
      ]
     },
     "metadata": {},
     "output_type": "display_data"
    },
    {
     "data": {
      "application/vnd.jupyter.widget-view+json": {
       "model_id": "856b57eee5df4de9bccabc874d5e2245",
       "version_major": 2,
       "version_minor": 0
      },
      "text/plain": [
       "Validation: |          | 0/? [00:00<?, ?it/s]"
      ]
     },
     "metadata": {},
     "output_type": "display_data"
    },
    {
     "data": {
      "application/vnd.jupyter.widget-view+json": {
       "model_id": "ce20ea3ccb68487aa64490cd6143e487",
       "version_major": 2,
       "version_minor": 0
      },
      "text/plain": [
       "Validation: |          | 0/? [00:00<?, ?it/s]"
      ]
     },
     "metadata": {},
     "output_type": "display_data"
    },
    {
     "data": {
      "application/vnd.jupyter.widget-view+json": {
       "model_id": "43606f89dd7d40679ca7e5e09258ff69",
       "version_major": 2,
       "version_minor": 0
      },
      "text/plain": [
       "Validation: |          | 0/? [00:00<?, ?it/s]"
      ]
     },
     "metadata": {},
     "output_type": "display_data"
    },
    {
     "data": {
      "application/vnd.jupyter.widget-view+json": {
       "model_id": "c992722d6cf64ed78dd4c3426eae2a3a",
       "version_major": 2,
       "version_minor": 0
      },
      "text/plain": [
       "Validation: |          | 0/? [00:00<?, ?it/s]"
      ]
     },
     "metadata": {},
     "output_type": "display_data"
    },
    {
     "data": {
      "application/vnd.jupyter.widget-view+json": {
       "model_id": "8dc53bba1ad14e239916b1731b63ef80",
       "version_major": 2,
       "version_minor": 0
      },
      "text/plain": [
       "Validation: |          | 0/? [00:00<?, ?it/s]"
      ]
     },
     "metadata": {},
     "output_type": "display_data"
    },
    {
     "name": "stdout",
     "output_type": "stream",
     "text": [
      "Jie Log: num_positive: 50576, num_negative: 64624\n",
      "Jie Log: total_size: 115200\n",
      "Jie Log: EEG_DataModule.setup()执行完毕： train_size: 80640, val_size: 11520, test_size: 23040\n"
     ]
    },
    {
     "name": "stderr",
     "output_type": "stream",
     "text": [
      "d:\\Dev\\Anaconda\\envs\\mne\\Lib\\site-packages\\pytorch_lightning\\trainer\\connectors\\data_connector.py:441: The 'val_dataloader' does not have many workers which may be a bottleneck. Consider increasing the value of the `num_workers` argument` to `num_workers=31` in the `DataLoader` to improve performance.\n"
     ]
    },
    {
     "data": {
      "application/vnd.jupyter.widget-view+json": {
       "model_id": "50d6fd9e633645b4b183279bef339f06",
       "version_major": 2,
       "version_minor": 0
      },
      "text/plain": [
       "Validation: |          | 0/? [00:00<?, ?it/s]"
      ]
     },
     "metadata": {},
     "output_type": "display_data"
    },
    {
     "name": "stdout",
     "output_type": "stream",
     "text": [
      "────────────────────────────────────────────────────────────────────────────────────────────────────────────────────────\n",
      "     Validate metric           DataLoader 0\n",
      "────────────────────────────────────────────────────────────────────────────────────────────────────────────────────────\n",
      "      val_accuracy          0.7983506917953491\n",
      "         val_f1             0.7160457372665405\n",
      "        val_loss            0.44492292404174805\n",
      "      val_precision         0.9625886678695679\n",
      "       val_recall           0.5706292390823364\n",
      "────────────────────────────────────────────────────────────────────────────────────────────────────────────────────────\n",
      "Jie Log: num_positive: 50576, num_negative: 64624\n",
      "Jie Log: total_size: 115200\n",
      "Jie Log: EEG_DataModule.setup()执行完毕： train_size: 80640, val_size: 11520, test_size: 23040\n"
     ]
    },
    {
     "name": "stderr",
     "output_type": "stream",
     "text": [
      "d:\\Dev\\Anaconda\\envs\\mne\\Lib\\site-packages\\pytorch_lightning\\trainer\\connectors\\data_connector.py:441: The 'test_dataloader' does not have many workers which may be a bottleneck. Consider increasing the value of the `num_workers` argument` to `num_workers=31` in the `DataLoader` to improve performance.\n"
     ]
    },
    {
     "data": {
      "application/vnd.jupyter.widget-view+json": {
       "model_id": "42262c4c267149b2b0d5a56f17f102b6",
       "version_major": 2,
       "version_minor": 0
      },
      "text/plain": [
       "Testing: |          | 0/? [00:00<?, ?it/s]"
      ]
     },
     "metadata": {},
     "output_type": "display_data"
    },
    {
     "name": "stdout",
     "output_type": "stream",
     "text": [
      "────────────────────────────────────────────────────────────────────────────────────────────────────────────────────────\n",
      "       Test metric             DataLoader 0\n",
      "────────────────────────────────────────────────────────────────────────────────────────────────────────────────────────\n",
      "      test_accuracy         0.8038628697395325\n",
      "         test_f1            0.7193979620933533\n",
      "        test_loss           0.43315136432647705\n",
      "     test_precision         0.9643689393997192\n",
      "       test_recall          0.5746467709541321\n",
      "────────────────────────────────────────────────────────────────────────────────────────────────────────────────────────\n"
     ]
    }
   ],
   "source": [
    "train_args = {\n",
    "    \"eeg_file_names\": [str(i) for i in range(1,33)],  # 示例文件名\n",
    "    \"test_mode\": False,\n",
    "    \"image_size\": 32,\n",
    "    \"batch_size\": 512,\n",
    "    \"train_size\": 0.7,\n",
    "    \"val_size\": 0.1,\n",
    "    \"test_size\": 0.2,\n",
    "    \"test_on_each_patient\": False,\n",
    "    \"learning_rate\": 0.005,\n",
    "    \"out\": \"D:/Research/EEG/EEG_DL_Classifier/checkpoints\",\n",
    "    \"wandb_run_name\": \"EEG_Classification_Run\",\n",
    "    \"disable_wandb\": False,\n",
    "    \"enable_progress_bar\": True,\n",
    "    \"max_epochs\": 30,  # 示例训练周期数\n",
    "    \"patience\": 3,\n",
    "}\n",
    "\n",
    "train(train_args)\n"
   ]
  },
  {
   "cell_type": "code",
   "execution_count": null,
   "metadata": {},
   "outputs": [],
   "source": [
    "import torch\n",
    "from torchviz import make_dot"
   ]
  },
  {
   "cell_type": "markdown",
   "metadata": {},
   "source": [
    "### 模型可视化"
   ]
  },
  {
   "cell_type": "code",
   "execution_count": null,
   "metadata": {},
   "outputs": [],
   "source": [
    "import torchvision.models as models\n",
    "from model.CNN import CNN\n",
    "# resnet = models.resnet50(pretrained=True)\n",
    "\n",
    "# x = torch.randn(1, 1, 128, 128)\n",
    "x = torch.zeros(1, 1, 224, 224, dtype=torch.float, requires_grad=False)\n",
    "model = CNN(learning_rate=0.05)\n",
    "out = model(x)\n",
    "make_dot(out)  # plot graph of variable, not of a nn.Module"
   ]
  },
  {
   "cell_type": "code",
   "execution_count": null,
   "metadata": {},
   "outputs": [],
   "source": []
  },
  {
   "cell_type": "code",
   "execution_count": null,
   "metadata": {},
   "outputs": [],
   "source": []
  }
 ],
 "metadata": {
  "kernelspec": {
   "display_name": "mne",
   "language": "python",
   "name": "python3"
  },
  "language_info": {
   "codemirror_mode": {
    "name": "ipython",
    "version": 3
   },
   "file_extension": ".py",
   "mimetype": "text/x-python",
   "name": "python",
   "nbconvert_exporter": "python",
   "pygments_lexer": "ipython3",
   "version": "3.11.7"
  }
 },
 "nbformat": 4,
 "nbformat_minor": 2
}

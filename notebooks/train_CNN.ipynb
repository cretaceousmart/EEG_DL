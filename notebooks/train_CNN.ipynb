{
 "cells": [
  {
   "cell_type": "code",
   "execution_count": null,
   "metadata": {},
   "outputs": [],
   "source": [
    "import sys\n",
    "sys.path.append('../src')\n",
    "from train_process.train_CNN import train\n"
   ]
  },
  {
   "cell_type": "code",
   "execution_count": null,
   "metadata": {},
   "outputs": [],
   "source": [
    "train_args = {\n",
    "    \"eeg_file_names\": [\"1\",\"16\"],  # 示例文件名\n",
    "    \"test_mode\": False,\n",
    "    \"image_size\": 32,\n",
    "    \"batch_size\": 64,\n",
    "    \"train_size\": 0.7,\n",
    "    \"val_size\": 0.2,\n",
    "    \"test_size\": 0.1,\n",
    "    \"out\": \"D:/Research/EEG/EEG_DL_Classifier/checkpoints\",\n",
    "    \"wandb_run_name\": \"EEG_Classification_Run\",\n",
    "    \"disable_wandb\": False,\n",
    "    \"enable_progress_bar\": True,\n",
    "    \"max_epochs\": 30  # 示例训练周期数\n",
    "}\n",
    "\n",
    "train(train_args)\n"
   ]
  }
 ],
 "metadata": {
  "kernelspec": {
   "display_name": "mne",
   "language": "python",
   "name": "python3"
  },
  "language_info": {
   "codemirror_mode": {
    "name": "ipython",
    "version": 3
   },
   "file_extension": ".py",
   "mimetype": "text/x-python",
   "name": "python",
   "nbconvert_exporter": "python",
   "pygments_lexer": "ipython3",
   "version": "3.11.7"
  }
 },
 "nbformat": 4,
 "nbformat_minor": 2
}
